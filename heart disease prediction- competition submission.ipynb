{
 "cells": [
  {
   "cell_type": "code",
   "execution_count": 1,
   "id": "9864eb5b",
   "metadata": {},
   "outputs": [],
   "source": [
    "import pandas as pd\n",
    "import numpy as np\n",
    "import seaborn as sns"
   ]
  },
  {
   "cell_type": "code",
   "execution_count": 2,
   "id": "3be933a5",
   "metadata": {},
   "outputs": [
    {
     "data": {
      "text/html": [
       "<div>\n",
       "<style scoped>\n",
       "    .dataframe tbody tr th:only-of-type {\n",
       "        vertical-align: middle;\n",
       "    }\n",
       "\n",
       "    .dataframe tbody tr th {\n",
       "        vertical-align: top;\n",
       "    }\n",
       "\n",
       "    .dataframe thead th {\n",
       "        text-align: right;\n",
       "    }\n",
       "</style>\n",
       "<table border=\"1\" class=\"dataframe\">\n",
       "  <thead>\n",
       "    <tr style=\"text-align: right;\">\n",
       "      <th></th>\n",
       "      <th>index</th>\n",
       "      <th>age</th>\n",
       "      <th>sex</th>\n",
       "      <th>chest pain type</th>\n",
       "      <th>resting bp s</th>\n",
       "      <th>cholesterol</th>\n",
       "      <th>fasting blood sugar</th>\n",
       "      <th>resting ecg</th>\n",
       "      <th>max heart rate</th>\n",
       "      <th>exercise angina</th>\n",
       "      <th>oldpeak</th>\n",
       "      <th>ST slope</th>\n",
       "      <th>target</th>\n",
       "    </tr>\n",
       "  </thead>\n",
       "  <tbody>\n",
       "    <tr>\n",
       "      <th>0</th>\n",
       "      <td>0</td>\n",
       "      <td>72</td>\n",
       "      <td>1</td>\n",
       "      <td>2</td>\n",
       "      <td>136</td>\n",
       "      <td>209</td>\n",
       "      <td>1</td>\n",
       "      <td>0</td>\n",
       "      <td>111</td>\n",
       "      <td>1</td>\n",
       "      <td>-2.916701</td>\n",
       "      <td>3</td>\n",
       "      <td>1</td>\n",
       "    </tr>\n",
       "    <tr>\n",
       "      <th>1</th>\n",
       "      <td>1</td>\n",
       "      <td>61</td>\n",
       "      <td>1</td>\n",
       "      <td>3</td>\n",
       "      <td>113</td>\n",
       "      <td>341</td>\n",
       "      <td>0</td>\n",
       "      <td>0</td>\n",
       "      <td>186</td>\n",
       "      <td>1</td>\n",
       "      <td>1.317159</td>\n",
       "      <td>1</td>\n",
       "      <td>1</td>\n",
       "    </tr>\n",
       "    <tr>\n",
       "      <th>2</th>\n",
       "      <td>2</td>\n",
       "      <td>60</td>\n",
       "      <td>1</td>\n",
       "      <td>4</td>\n",
       "      <td>128</td>\n",
       "      <td>388</td>\n",
       "      <td>0</td>\n",
       "      <td>2</td>\n",
       "      <td>103</td>\n",
       "      <td>1</td>\n",
       "      <td>0.061226</td>\n",
       "      <td>1</td>\n",
       "      <td>0</td>\n",
       "    </tr>\n",
       "    <tr>\n",
       "      <th>3</th>\n",
       "      <td>3</td>\n",
       "      <td>65</td>\n",
       "      <td>1</td>\n",
       "      <td>3</td>\n",
       "      <td>136</td>\n",
       "      <td>201</td>\n",
       "      <td>1</td>\n",
       "      <td>2</td>\n",
       "      <td>142</td>\n",
       "      <td>0</td>\n",
       "      <td>1.230714</td>\n",
       "      <td>2</td>\n",
       "      <td>1</td>\n",
       "    </tr>\n",
       "    <tr>\n",
       "      <th>4</th>\n",
       "      <td>4</td>\n",
       "      <td>60</td>\n",
       "      <td>1</td>\n",
       "      <td>4</td>\n",
       "      <td>115</td>\n",
       "      <td>331</td>\n",
       "      <td>1</td>\n",
       "      <td>0</td>\n",
       "      <td>141</td>\n",
       "      <td>0</td>\n",
       "      <td>-0.162745</td>\n",
       "      <td>1</td>\n",
       "      <td>0</td>\n",
       "    </tr>\n",
       "  </tbody>\n",
       "</table>\n",
       "</div>"
      ],
      "text/plain": [
       "   index  age  sex  chest pain type  resting bp s  cholesterol  \\\n",
       "0      0   72    1                2           136          209   \n",
       "1      1   61    1                3           113          341   \n",
       "2      2   60    1                4           128          388   \n",
       "3      3   65    1                3           136          201   \n",
       "4      4   60    1                4           115          331   \n",
       "\n",
       "   fasting blood sugar  resting ecg  max heart rate  exercise angina  \\\n",
       "0                    1            0             111                1   \n",
       "1                    0            0             186                1   \n",
       "2                    0            2             103                1   \n",
       "3                    1            2             142                0   \n",
       "4                    1            0             141                0   \n",
       "\n",
       "    oldpeak  ST slope  target  \n",
       "0 -2.916701         3       1  \n",
       "1  1.317159         1       1  \n",
       "2  0.061226         1       0  \n",
       "3  1.230714         2       1  \n",
       "4 -0.162745         1       0  "
      ]
     },
     "execution_count": 2,
     "metadata": {},
     "output_type": "execute_result"
    }
   ],
   "source": [
    "data=pd.read_csv(r\"C:\\Users\\sairam\\Downloads\\train.csv\")\n",
    "test_data=pd.read_csv(r\"C:\\Users\\sairam\\Downloads\\test.csv\")\n",
    "data.head()"
   ]
  },
  {
   "cell_type": "code",
   "execution_count": 3,
   "id": "b14b7c03",
   "metadata": {},
   "outputs": [
    {
     "data": {
      "text/plain": [
       "index                  0\n",
       "age                    0\n",
       "sex                    0\n",
       "chest pain type        0\n",
       "resting bp s           0\n",
       "cholesterol            0\n",
       "fasting blood sugar    0\n",
       "resting ecg            0\n",
       "max heart rate         0\n",
       "exercise angina        0\n",
       "oldpeak                0\n",
       "ST slope               0\n",
       "target                 0\n",
       "dtype: int64"
      ]
     },
     "execution_count": 3,
     "metadata": {},
     "output_type": "execute_result"
    }
   ],
   "source": [
    "data.isnull().sum()"
   ]
  },
  {
   "cell_type": "code",
   "execution_count": 4,
   "id": "13970766",
   "metadata": {},
   "outputs": [
    {
     "name": "stdout",
     "output_type": "stream",
     "text": [
      "<class 'pandas.core.frame.DataFrame'>\n",
      "RangeIndex: 840 entries, 0 to 839\n",
      "Data columns (total 13 columns):\n",
      " #   Column               Non-Null Count  Dtype  \n",
      "---  ------               --------------  -----  \n",
      " 0   index                840 non-null    int64  \n",
      " 1   age                  840 non-null    int64  \n",
      " 2   sex                  840 non-null    int64  \n",
      " 3   chest pain type      840 non-null    int64  \n",
      " 4   resting bp s         840 non-null    int64  \n",
      " 5   cholesterol          840 non-null    int64  \n",
      " 6   fasting blood sugar  840 non-null    int64  \n",
      " 7   resting ecg          840 non-null    int64  \n",
      " 8   max heart rate       840 non-null    int64  \n",
      " 9   exercise angina      840 non-null    int64  \n",
      " 10  oldpeak              840 non-null    float64\n",
      " 11  ST slope             840 non-null    int64  \n",
      " 12  target               840 non-null    int64  \n",
      "dtypes: float64(1), int64(12)\n",
      "memory usage: 85.4 KB\n"
     ]
    }
   ],
   "source": [
    "data.info()"
   ]
  },
  {
   "cell_type": "code",
   "execution_count": 5,
   "id": "82149c14",
   "metadata": {},
   "outputs": [
    {
     "name": "stdout",
     "output_type": "stream",
     "text": [
      "<class 'pandas.core.frame.DataFrame'>\n",
      "Int64Index: 840 entries, 0 to 839\n",
      "Data columns (total 13 columns):\n",
      " #   Column               Non-Null Count  Dtype  \n",
      "---  ------               --------------  -----  \n",
      " 0   index                840 non-null    int64  \n",
      " 1   age                  840 non-null    int64  \n",
      " 2   sex                  840 non-null    int64  \n",
      " 3   chest pain type      840 non-null    int64  \n",
      " 4   resting bp s         840 non-null    int64  \n",
      " 5   cholesterol          840 non-null    int64  \n",
      " 6   fasting blood sugar  840 non-null    int64  \n",
      " 7   resting ecg          840 non-null    int64  \n",
      " 8   max heart rate       840 non-null    int64  \n",
      " 9   exercise angina      840 non-null    int64  \n",
      " 10  oldpeak              840 non-null    float64\n",
      " 11  ST slope             840 non-null    int64  \n",
      " 12  target               840 non-null    int64  \n",
      "dtypes: float64(1), int64(12)\n",
      "memory usage: 91.9 KB\n"
     ]
    }
   ],
   "source": [
    "data=data.drop_duplicates()\n",
    "data.info()"
   ]
  },
  {
   "cell_type": "code",
   "execution_count": 6,
   "id": "0ffb1086",
   "metadata": {},
   "outputs": [
    {
     "name": "stdout",
     "output_type": "stream",
     "text": [
      "<class 'pandas.core.frame.DataFrame'>\n",
      "Int64Index: 840 entries, 0 to 839\n",
      "Data columns (total 12 columns):\n",
      " #   Column               Non-Null Count  Dtype  \n",
      "---  ------               --------------  -----  \n",
      " 0   age                  840 non-null    int64  \n",
      " 1   sex                  840 non-null    int64  \n",
      " 2   chest pain type      840 non-null    int64  \n",
      " 3   resting bp s         840 non-null    int64  \n",
      " 4   cholesterol          840 non-null    int64  \n",
      " 5   fasting blood sugar  840 non-null    int64  \n",
      " 6   resting ecg          840 non-null    int64  \n",
      " 7   max heart rate       840 non-null    int64  \n",
      " 8   exercise angina      840 non-null    int64  \n",
      " 9   oldpeak              840 non-null    float64\n",
      " 10  ST slope             840 non-null    int64  \n",
      " 11  target               840 non-null    int64  \n",
      "dtypes: float64(1), int64(11)\n",
      "memory usage: 85.3 KB\n"
     ]
    }
   ],
   "source": [
    "data=data.drop(['index'],axis=1)\n",
    "test_data=test_data.drop(['index'],axis=1)\n",
    "data.info()"
   ]
  },
  {
   "cell_type": "code",
   "execution_count": 37,
   "id": "75a09554",
   "metadata": {},
   "outputs": [],
   "source": [
    "corr=data.corr()"
   ]
  },
  {
   "cell_type": "code",
   "execution_count": 46,
   "id": "0d11460b",
   "metadata": {},
   "outputs": [
    {
     "data": {
      "text/plain": [
       "sex                0.049460\n",
       "chest pain type    0.057587\n",
       "resting ecg        0.125887\n",
       "exercise angina    0.070244\n",
       "target             1.000000\n",
       "Name: target, dtype: float64"
      ]
     },
     "execution_count": 46,
     "metadata": {},
     "output_type": "execute_result"
    }
   ],
   "source": [
    "cor_target = abs(corr[\"target\"])\n",
    "#cor_target\n",
    "#Selecting highly correlated features\n",
    "relevant_features = cor_target[cor_target>0.04]\n",
    "relevant_features"
   ]
  },
  {
   "cell_type": "code",
   "execution_count": 47,
   "id": "71f1ad4c",
   "metadata": {},
   "outputs": [],
   "source": [
    "data=data.drop(['age','resting bp s','cholesterol','fasting blood sugar','max heart rate','oldpeak','ST slope'],axis=1)\n",
    "test_data=test_data.drop(['age','resting bp s','cholesterol','fasting blood sugar','max heart rate','oldpeak','ST slope'],axis=1)"
   ]
  },
  {
   "cell_type": "code",
   "execution_count": 48,
   "id": "ee95f37b",
   "metadata": {},
   "outputs": [
    {
     "data": {
      "text/plain": [
       "0    600\n",
       "1    600\n",
       "Name: target, dtype: int64"
      ]
     },
     "execution_count": 48,
     "metadata": {},
     "output_type": "execute_result"
    }
   ],
   "source": [
    "data['target'].value_counts()"
   ]
  },
  {
   "cell_type": "code",
   "execution_count": 23,
   "id": "234a0443",
   "metadata": {},
   "outputs": [],
   "source": [
    "df_class_0 = data[data['target'] == 0]\n",
    "df_class_1 = data[data['target'] == 1]"
   ]
  },
  {
   "cell_type": "code",
   "execution_count": 25,
   "id": "b7526760",
   "metadata": {},
   "outputs": [
    {
     "name": "stdout",
     "output_type": "stream",
     "text": [
      "<class 'pandas.core.frame.DataFrame'>\n",
      "Int64Index: 1200 entries, 623 to 171\n",
      "Data columns (total 12 columns):\n",
      " #   Column               Non-Null Count  Dtype  \n",
      "---  ------               --------------  -----  \n",
      " 0   age                  1200 non-null   int64  \n",
      " 1   sex                  1200 non-null   int64  \n",
      " 2   chest pain type      1200 non-null   int64  \n",
      " 3   resting bp s         1200 non-null   int64  \n",
      " 4   cholesterol          1200 non-null   int64  \n",
      " 5   fasting blood sugar  1200 non-null   int64  \n",
      " 6   resting ecg          1200 non-null   int64  \n",
      " 7   max heart rate       1200 non-null   int64  \n",
      " 8   exercise angina      1200 non-null   int64  \n",
      " 9   oldpeak              1200 non-null   float64\n",
      " 10  ST slope             1200 non-null   int64  \n",
      " 11  target               1200 non-null   int64  \n",
      "dtypes: float64(1), int64(11)\n",
      "memory usage: 121.9 KB\n"
     ]
    }
   ],
   "source": [
    "df_class_1_over = df_class_1.sample(600, replace=True)\n",
    "df_class_0_over = df_class_0.sample(600, replace=True)\n",
    "data = pd.concat([df_class_0_over, df_class_1_over], axis=0)\n",
    "data.info()"
   ]
  },
  {
   "cell_type": "code",
   "execution_count": 49,
   "id": "8e6ff185",
   "metadata": {},
   "outputs": [],
   "source": [
    "x = data.iloc[:,:-1]\n",
    "y = data.iloc[: ,-1]"
   ]
  },
  {
   "cell_type": "code",
   "execution_count": 50,
   "id": "828ad0d1",
   "metadata": {},
   "outputs": [
    {
     "name": "stdout",
     "output_type": "stream",
     "text": [
      "(900, 4)\n",
      "(900,)\n",
      "(300, 4)\n",
      "(300,)\n"
     ]
    }
   ],
   "source": [
    "from sklearn.model_selection import train_test_split\n",
    "x_train,x_test,y_train,y_test=train_test_split(x,y,test_size=0.25,stratify=y)\n",
    "print(x_train.shape)\n",
    "print(y_train.shape)\n",
    "print(x_test.shape)\n",
    "print(y_test.shape)"
   ]
  },
  {
   "cell_type": "code",
   "execution_count": 51,
   "id": "d619b04a",
   "metadata": {},
   "outputs": [
    {
     "name": "stdout",
     "output_type": "stream",
     "text": [
      "Model: \"sequential_3\"\n",
      "_________________________________________________________________\n",
      " Layer (type)                Output Shape              Param #   \n",
      "=================================================================\n",
      " dense_9 (Dense)             (None, 512)               2560      \n",
      "                                                                 \n",
      " dense_10 (Dense)            (None, 512)               262656    \n",
      "                                                                 \n",
      " dense_11 (Dense)            (None, 1)                 513       \n",
      "                                                                 \n",
      "=================================================================\n",
      "Total params: 265,729\n",
      "Trainable params: 265,729\n",
      "Non-trainable params: 0\n",
      "_________________________________________________________________\n"
     ]
    }
   ],
   "source": [
    "import tensorflow as tf\n",
    "from tensorflow.keras import Sequential\n",
    "from tensorflow.keras.layers import Dense, Dropout\n",
    "dl_model = Sequential() \n",
    "\n",
    "dl_model.add(Dense(512,  activation = 'relu' ,input_shape=([4]))) #input layer\n",
    "dl_model.add(Dense(512,  activation = 'relu'))\n",
    "dl_model.add(Dense(1,activation = 'sigmoid'))\n",
    "dl_model.summary()\n",
    "dl_model.compile(optimizer = 'adam' , loss = 'binary_crossentropy' ,metrics = ['accuracy','Precision','Recall','AUC'])"
   ]
  },
  {
   "cell_type": "code",
   "execution_count": 52,
   "id": "d3634f43",
   "metadata": {},
   "outputs": [
    {
     "name": "stdout",
     "output_type": "stream",
     "text": [
      "Epoch 1/50\n",
      "50/50 [==============================] - 1s 11ms/step - loss: 0.6950 - accuracy: 0.5522 - precision: 0.5526 - recall: 0.5489 - auc: 0.5622 - val_loss: 0.7024 - val_accuracy: 0.5267 - val_precision: 0.6111 - val_recall: 0.1467 - val_auc: 0.6148\n",
      "Epoch 2/50\n",
      "50/50 [==============================] - 0s 5ms/step - loss: 0.6772 - accuracy: 0.5556 - precision: 0.5571 - recall: 0.5422 - auc: 0.5978 - val_loss: 0.7244 - val_accuracy: 0.5533 - val_precision: 0.5354 - val_recall: 0.8067 - val_auc: 0.5735\n",
      "Epoch 3/50\n",
      "50/50 [==============================] - 0s 6ms/step - loss: 0.6659 - accuracy: 0.5811 - precision: 0.5867 - recall: 0.5489 - auc: 0.6207 - val_loss: 0.6885 - val_accuracy: 0.5867 - val_precision: 0.6585 - val_recall: 0.3600 - val_auc: 0.6262\n",
      "Epoch 4/50\n",
      "50/50 [==============================] - 0s 5ms/step - loss: 0.6668 - accuracy: 0.5767 - precision: 0.5865 - recall: 0.5200 - auc: 0.6209 - val_loss: 0.6930 - val_accuracy: 0.5967 - val_precision: 0.5935 - val_recall: 0.6133 - val_auc: 0.6192\n",
      "Epoch 5/50\n",
      "50/50 [==============================] - 0s 6ms/step - loss: 0.6617 - accuracy: 0.5922 - precision: 0.5941 - recall: 0.5822 - auc: 0.6292 - val_loss: 0.7034 - val_accuracy: 0.5933 - val_precision: 0.6556 - val_recall: 0.3933 - val_auc: 0.6273\n",
      "Epoch 6/50\n",
      "50/50 [==============================] - 0s 5ms/step - loss: 0.6577 - accuracy: 0.5900 - precision: 0.5825 - recall: 0.6356 - auc: 0.6397 - val_loss: 0.6813 - val_accuracy: 0.6167 - val_precision: 0.6036 - val_recall: 0.6800 - val_auc: 0.6187\n",
      "Epoch 7/50\n",
      "50/50 [==============================] - 0s 6ms/step - loss: 0.6515 - accuracy: 0.6156 - precision: 0.6166 - recall: 0.6111 - auc: 0.6587 - val_loss: 0.6816 - val_accuracy: 0.5533 - val_precision: 0.5388 - val_recall: 0.7400 - val_auc: 0.6129\n",
      "Epoch 8/50\n",
      "50/50 [==============================] - 0s 6ms/step - loss: 0.6533 - accuracy: 0.5900 - precision: 0.5882 - recall: 0.6000 - auc: 0.6396 - val_loss: 0.6790 - val_accuracy: 0.5933 - val_precision: 0.5769 - val_recall: 0.7000 - val_auc: 0.6243\n",
      "Epoch 9/50\n",
      "50/50 [==============================] - 0s 6ms/step - loss: 0.6487 - accuracy: 0.5889 - precision: 0.6070 - recall: 0.5044 - auc: 0.6466 - val_loss: 0.6706 - val_accuracy: 0.6100 - val_precision: 0.6093 - val_recall: 0.6133 - val_auc: 0.6276\n",
      "Epoch 10/50\n",
      "50/50 [==============================] - 0s 7ms/step - loss: 0.6478 - accuracy: 0.5978 - precision: 0.5783 - recall: 0.7222 - auc: 0.6519 - val_loss: 0.6798 - val_accuracy: 0.5800 - val_precision: 0.5882 - val_recall: 0.5333 - val_auc: 0.6224\n",
      "Epoch 11/50\n",
      "50/50 [==============================] - 0s 7ms/step - loss: 0.6501 - accuracy: 0.6033 - precision: 0.6183 - recall: 0.5400 - auc: 0.6526 - val_loss: 0.6717 - val_accuracy: 0.5933 - val_precision: 0.5875 - val_recall: 0.6267 - val_auc: 0.6264\n",
      "Epoch 12/50\n",
      "50/50 [==============================] - 0s 6ms/step - loss: 0.6479 - accuracy: 0.5933 - precision: 0.6105 - recall: 0.5156 - auc: 0.6489 - val_loss: 0.6869 - val_accuracy: 0.5900 - val_precision: 0.5584 - val_recall: 0.8600 - val_auc: 0.6242\n",
      "Epoch 13/50\n",
      "50/50 [==============================] - 0s 6ms/step - loss: 0.6488 - accuracy: 0.5933 - precision: 0.5986 - recall: 0.5667 - auc: 0.6455 - val_loss: 0.6861 - val_accuracy: 0.6033 - val_precision: 0.5886 - val_recall: 0.6867 - val_auc: 0.6200\n",
      "Epoch 14/50\n",
      "50/50 [==============================] - 0s 7ms/step - loss: 0.6459 - accuracy: 0.6022 - precision: 0.5927 - recall: 0.6533 - auc: 0.6545 - val_loss: 0.6785 - val_accuracy: 0.5933 - val_precision: 0.5897 - val_recall: 0.6133 - val_auc: 0.6345\n",
      "Epoch 15/50\n",
      "50/50 [==============================] - 0s 7ms/step - loss: 0.6443 - accuracy: 0.6044 - precision: 0.5948 - recall: 0.6556 - auc: 0.6560 - val_loss: 0.6774 - val_accuracy: 0.5833 - val_precision: 0.5899 - val_recall: 0.5467 - val_auc: 0.6223\n",
      "Epoch 16/50\n",
      "50/50 [==============================] - 0s 6ms/step - loss: 0.6435 - accuracy: 0.6067 - precision: 0.6121 - recall: 0.5822 - auc: 0.6558 - val_loss: 0.6762 - val_accuracy: 0.5867 - val_precision: 0.5878 - val_recall: 0.5800 - val_auc: 0.6240\n",
      "Epoch 17/50\n",
      "50/50 [==============================] - 0s 7ms/step - loss: 0.6447 - accuracy: 0.6122 - precision: 0.6081 - recall: 0.6311 - auc: 0.6567 - val_loss: 0.6812 - val_accuracy: 0.5833 - val_precision: 0.5899 - val_recall: 0.5467 - val_auc: 0.6197\n",
      "Epoch 18/50\n",
      "50/50 [==============================] - 0s 6ms/step - loss: 0.6431 - accuracy: 0.6100 - precision: 0.6021 - recall: 0.6489 - auc: 0.6598 - val_loss: 0.6836 - val_accuracy: 0.6133 - val_precision: 0.6037 - val_recall: 0.6600 - val_auc: 0.6290\n",
      "Epoch 19/50\n",
      "50/50 [==============================] - 0s 6ms/step - loss: 0.6411 - accuracy: 0.6056 - precision: 0.5996 - recall: 0.6356 - auc: 0.6655 - val_loss: 0.6823 - val_accuracy: 0.5967 - val_precision: 0.5973 - val_recall: 0.5933 - val_auc: 0.6233\n",
      "Epoch 20/50\n",
      "50/50 [==============================] - 0s 7ms/step - loss: 0.6410 - accuracy: 0.5978 - precision: 0.6106 - recall: 0.5400 - auc: 0.6537 - val_loss: 0.6808 - val_accuracy: 0.5900 - val_precision: 0.5918 - val_recall: 0.5800 - val_auc: 0.6218\n",
      "Epoch 21/50\n",
      "50/50 [==============================] - 0s 6ms/step - loss: 0.6392 - accuracy: 0.6044 - precision: 0.6000 - recall: 0.6267 - auc: 0.6623 - val_loss: 0.6914 - val_accuracy: 0.6033 - val_precision: 0.5963 - val_recall: 0.6400 - val_auc: 0.6138\n",
      "Epoch 22/50\n",
      "50/50 [==============================] - 0s 6ms/step - loss: 0.6461 - accuracy: 0.6111 - precision: 0.5988 - recall: 0.6733 - auc: 0.6582 - val_loss: 0.6905 - val_accuracy: 0.6033 - val_precision: 0.5939 - val_recall: 0.6533 - val_auc: 0.6104\n",
      "Epoch 23/50\n",
      "50/50 [==============================] - 0s 7ms/step - loss: 0.6414 - accuracy: 0.5956 - precision: 0.5968 - recall: 0.5889 - auc: 0.6680 - val_loss: 0.6849 - val_accuracy: 0.5733 - val_precision: 0.6410 - val_recall: 0.3333 - val_auc: 0.6208\n",
      "Epoch 24/50\n",
      "50/50 [==============================] - 0s 7ms/step - loss: 0.6427 - accuracy: 0.6011 - precision: 0.6056 - recall: 0.5800 - auc: 0.6533 - val_loss: 0.6841 - val_accuracy: 0.5900 - val_precision: 0.5918 - val_recall: 0.5800 - val_auc: 0.6153\n",
      "Epoch 25/50\n",
      "50/50 [==============================] - 0s 7ms/step - loss: 0.6386 - accuracy: 0.6089 - precision: 0.6052 - recall: 0.6267 - auc: 0.6670 - val_loss: 0.6907 - val_accuracy: 0.6033 - val_precision: 0.5963 - val_recall: 0.6400 - val_auc: 0.6161\n",
      "Epoch 26/50\n",
      "50/50 [==============================] - 0s 7ms/step - loss: 0.6382 - accuracy: 0.6089 - precision: 0.6047 - recall: 0.6289 - auc: 0.6632 - val_loss: 0.6845 - val_accuracy: 0.5900 - val_precision: 0.5957 - val_recall: 0.5600 - val_auc: 0.6237\n",
      "Epoch 27/50\n",
      "50/50 [==============================] - 0s 6ms/step - loss: 0.6418 - accuracy: 0.6100 - precision: 0.6051 - recall: 0.6333 - auc: 0.6598 - val_loss: 0.6953 - val_accuracy: 0.5733 - val_precision: 0.5786 - val_recall: 0.5400 - val_auc: 0.6174\n",
      "Epoch 28/50\n",
      "50/50 [==============================] - 0s 7ms/step - loss: 0.6407 - accuracy: 0.6011 - precision: 0.6247 - recall: 0.5067 - auc: 0.6595 - val_loss: 0.7109 - val_accuracy: 0.6067 - val_precision: 0.5988 - val_recall: 0.6467 - val_auc: 0.6167\n",
      "Epoch 29/50\n",
      "50/50 [==============================] - 0s 7ms/step - loss: 0.6406 - accuracy: 0.6156 - precision: 0.6193 - recall: 0.6000 - auc: 0.6639 - val_loss: 0.6931 - val_accuracy: 0.5933 - val_precision: 0.5972 - val_recall: 0.5733 - val_auc: 0.6250\n",
      "Epoch 30/50\n",
      "50/50 [==============================] - 0s 6ms/step - loss: 0.6395 - accuracy: 0.6156 - precision: 0.6070 - recall: 0.6556 - auc: 0.6622 - val_loss: 0.6896 - val_accuracy: 0.5933 - val_precision: 0.5897 - val_recall: 0.6133 - val_auc: 0.6224\n",
      "Epoch 31/50\n",
      "50/50 [==============================] - 0s 7ms/step - loss: 0.6392 - accuracy: 0.6056 - precision: 0.5979 - recall: 0.6444 - auc: 0.6664 - val_loss: 0.6944 - val_accuracy: 0.5900 - val_precision: 0.5918 - val_recall: 0.5800 - val_auc: 0.6179\n",
      "Epoch 32/50\n",
      "50/50 [==============================] - 0s 7ms/step - loss: 0.6382 - accuracy: 0.6200 - precision: 0.6169 - recall: 0.6333 - auc: 0.6631 - val_loss: 0.7114 - val_accuracy: 0.5933 - val_precision: 0.5946 - val_recall: 0.5867 - val_auc: 0.6122\n",
      "Epoch 33/50\n",
      "50/50 [==============================] - 0s 7ms/step - loss: 0.6393 - accuracy: 0.6100 - precision: 0.6051 - recall: 0.6333 - auc: 0.6624 - val_loss: 0.6953 - val_accuracy: 0.6033 - val_precision: 0.5963 - val_recall: 0.6400 - val_auc: 0.6195\n",
      "Epoch 34/50\n",
      "50/50 [==============================] - 0s 7ms/step - loss: 0.6420 - accuracy: 0.6100 - precision: 0.6029 - recall: 0.6444 - auc: 0.6701 - val_loss: 0.7117 - val_accuracy: 0.5900 - val_precision: 0.5918 - val_recall: 0.5800 - val_auc: 0.6082\n",
      "Epoch 35/50\n",
      "50/50 [==============================] - 0s 6ms/step - loss: 0.6371 - accuracy: 0.6189 - precision: 0.6197 - recall: 0.6156 - auc: 0.6630 - val_loss: 0.6985 - val_accuracy: 0.5900 - val_precision: 0.5918 - val_recall: 0.5800 - val_auc: 0.6185\n",
      "Epoch 36/50\n",
      "50/50 [==============================] - 0s 6ms/step - loss: 0.6405 - accuracy: 0.6189 - precision: 0.6126 - recall: 0.6467 - auc: 0.6649 - val_loss: 0.7025 - val_accuracy: 0.5900 - val_precision: 0.5918 - val_recall: 0.5800 - val_auc: 0.6154\n",
      "Epoch 37/50\n",
      "50/50 [==============================] - 0s 6ms/step - loss: 0.6396 - accuracy: 0.6178 - precision: 0.6142 - recall: 0.6333 - auc: 0.6631 - val_loss: 0.7069 - val_accuracy: 0.6033 - val_precision: 0.5963 - val_recall: 0.6400 - val_auc: 0.6150\n",
      "Epoch 38/50\n",
      "50/50 [==============================] - 0s 7ms/step - loss: 0.6366 - accuracy: 0.6167 - precision: 0.6149 - recall: 0.6244 - auc: 0.6714 - val_loss: 0.7069 - val_accuracy: 0.5767 - val_precision: 0.5742 - val_recall: 0.5933 - val_auc: 0.6240\n",
      "Epoch 39/50\n",
      "50/50 [==============================] - 0s 7ms/step - loss: 0.6393 - accuracy: 0.6167 - precision: 0.6185 - recall: 0.6089 - auc: 0.6658 - val_loss: 0.7098 - val_accuracy: 0.6033 - val_precision: 0.5963 - val_recall: 0.6400 - val_auc: 0.6202\n",
      "Epoch 40/50\n",
      "50/50 [==============================] - 0s 6ms/step - loss: 0.6392 - accuracy: 0.6056 - precision: 0.6039 - recall: 0.6133 - auc: 0.6632 - val_loss: 0.7028 - val_accuracy: 0.6000 - val_precision: 0.6415 - val_recall: 0.4533 - val_auc: 0.6270\n",
      "Epoch 41/50\n",
      "50/50 [==============================] - 0s 7ms/step - loss: 0.6365 - accuracy: 0.6256 - precision: 0.6499 - recall: 0.5444 - auc: 0.6763 - val_loss: 0.7179 - val_accuracy: 0.6033 - val_precision: 0.5963 - val_recall: 0.6400 - val_auc: 0.6073\n",
      "Epoch 42/50\n",
      "50/50 [==============================] - 0s 7ms/step - loss: 0.6407 - accuracy: 0.6156 - precision: 0.6070 - recall: 0.6556 - auc: 0.6584 - val_loss: 0.7399 - val_accuracy: 0.5900 - val_precision: 0.5799 - val_recall: 0.6533 - val_auc: 0.6079\n",
      "Epoch 43/50\n",
      "50/50 [==============================] - 0s 6ms/step - loss: 0.6415 - accuracy: 0.6089 - precision: 0.6140 - recall: 0.5867 - auc: 0.6661 - val_loss: 0.7163 - val_accuracy: 0.6000 - val_precision: 0.6415 - val_recall: 0.4533 - val_auc: 0.6278\n",
      "Epoch 44/50\n",
      "50/50 [==============================] - 0s 6ms/step - loss: 0.6376 - accuracy: 0.6078 - precision: 0.6080 - recall: 0.6067 - auc: 0.6675 - val_loss: 0.7161 - val_accuracy: 0.5900 - val_precision: 0.5918 - val_recall: 0.5800 - val_auc: 0.6205\n",
      "Epoch 45/50\n",
      "50/50 [==============================] - 0s 6ms/step - loss: 0.6360 - accuracy: 0.6189 - precision: 0.6186 - recall: 0.6200 - auc: 0.6605 - val_loss: 0.7221 - val_accuracy: 0.5900 - val_precision: 0.5918 - val_recall: 0.5800 - val_auc: 0.6166\n",
      "Epoch 46/50\n",
      "50/50 [==============================] - 0s 6ms/step - loss: 0.6365 - accuracy: 0.6167 - precision: 0.6329 - recall: 0.5556 - auc: 0.6703 - val_loss: 0.7164 - val_accuracy: 0.5900 - val_precision: 0.5918 - val_recall: 0.5800 - val_auc: 0.6193\n",
      "Epoch 47/50\n",
      "50/50 [==============================] - 0s 6ms/step - loss: 0.6357 - accuracy: 0.6156 - precision: 0.6135 - recall: 0.6244 - auc: 0.6708 - val_loss: 0.7217 - val_accuracy: 0.5900 - val_precision: 0.5918 - val_recall: 0.5800 - val_auc: 0.6260\n",
      "Epoch 48/50\n",
      "50/50 [==============================] - 0s 6ms/step - loss: 0.6364 - accuracy: 0.6089 - precision: 0.6225 - recall: 0.5533 - auc: 0.6718 - val_loss: 0.7209 - val_accuracy: 0.5900 - val_precision: 0.5918 - val_recall: 0.5800 - val_auc: 0.6200\n",
      "Epoch 49/50\n",
      "50/50 [==============================] - 0s 7ms/step - loss: 0.6372 - accuracy: 0.6167 - precision: 0.6110 - recall: 0.6422 - auc: 0.6665 - val_loss: 0.7188 - val_accuracy: 0.5900 - val_precision: 0.5918 - val_recall: 0.5800 - val_auc: 0.6306\n",
      "Epoch 50/50\n",
      "50/50 [==============================] - 0s 7ms/step - loss: 0.6378 - accuracy: 0.6244 - precision: 0.6228 - recall: 0.6311 - auc: 0.6654 - val_loss: 0.7196 - val_accuracy: 0.5900 - val_precision: 0.5918 - val_recall: 0.5800 - val_auc: 0.6260\n"
     ]
    }
   ],
   "source": [
    "num_epochs = 50\n",
    "history = dl_model.fit(x_train ,\n",
    "                    y_train ,\n",
    "                    epochs= num_epochs ,\n",
    "                    steps_per_epoch=50,\n",
    "                    validation_data=(x_test ,y_test))"
   ]
  },
  {
   "cell_type": "code",
   "execution_count": 54,
   "id": "0e9c0c7c",
   "metadata": {},
   "outputs": [
    {
     "name": "stdout",
     "output_type": "stream",
     "text": [
      "10/10 [==============================] - 0s 3ms/step - loss: 0.7196 - accuracy: 0.5900 - precision: 0.5918 - recall: 0.5800 - auc: 0.6260\n"
     ]
    },
    {
     "data": {
      "text/plain": [
       "[0.7195669412612915,\n",
       " 0.5899999737739563,\n",
       " 0.5918367505073547,\n",
       " 0.5799999833106995,\n",
       " 0.6259777545928955]"
      ]
     },
     "execution_count": 54,
     "metadata": {},
     "output_type": "execute_result"
    }
   ],
   "source": [
    "dl_model.evaluate(x_test,y_test)"
   ]
  },
  {
   "cell_type": "code",
   "execution_count": 55,
   "id": "dc026a18",
   "metadata": {},
   "outputs": [
    {
     "name": "stdout",
     "output_type": "stream",
     "text": [
      "12/12 [==============================] - 0s 2ms/step\n"
     ]
    }
   ],
   "source": [
    "sub = pd.read_csv(r\"C:\\Users\\sairam\\Downloads\\sample_submission.csv\")\n",
    "target=dl_model.predict(test_data)\n",
    "sub['target']=target"
   ]
  },
  {
   "cell_type": "code",
   "execution_count": 56,
   "id": "918b7090",
   "metadata": {},
   "outputs": [],
   "source": [
    "sub.to_csv('heart disease comp-5.csv', index=False)"
   ]
  }
 ],
 "metadata": {
  "kernelspec": {
   "display_name": "Python 3",
   "language": "python",
   "name": "python3"
  },
  "language_info": {
   "codemirror_mode": {
    "name": "ipython",
    "version": 3
   },
   "file_extension": ".py",
   "mimetype": "text/x-python",
   "name": "python",
   "nbconvert_exporter": "python",
   "pygments_lexer": "ipython3",
   "version": "3.8.8"
  }
 },
 "nbformat": 4,
 "nbformat_minor": 5
}
